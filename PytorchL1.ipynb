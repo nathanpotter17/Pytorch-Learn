{
  "nbformat": 4,
  "nbformat_minor": 0,
  "metadata": {
    "colab": {
      "provenance": []
    },
    "kernelspec": {
      "name": "python3",
      "display_name": "Python 3"
    },
    "language_info": {
      "name": "python"
    }
  },
  "cells": [
    {
      "cell_type": "code",
      "source": [
        "import torch\n",
        "import pandas as pd\n",
        "import numpy as np\n",
        "import matplotlib as plt\n",
        "print(torch.__version__)\n",
        "# version 1.10.0+cu111 for video"
      ],
      "metadata": {
        "id": "3lhrSL_lsMUJ",
        "colab": {
          "base_uri": "https://localhost:8080/"
        },
        "outputId": "02b8b19a-ebae-4de1-e425-80f1510d7e0f"
      },
      "execution_count": null,
      "outputs": [
        {
          "output_type": "stream",
          "name": "stdout",
          "text": [
            "2.1.0+cu118\n"
          ]
        }
      ]
    },
    {
      "cell_type": "markdown",
      "source": [
        "## **Intro to Tensors**"
      ],
      "metadata": {
        "id": "6blptGautJ0U"
      }
    },
    {
      "cell_type": "code",
      "source": [
        "# scalar via torch.tensor\n",
        "scalar = torch.tensor(7)\n",
        "scalar"
      ],
      "metadata": {
        "colab": {
          "base_uri": "https://localhost:8080/"
        },
        "id": "_kQf00vCtO-R",
        "outputId": "5dea385e-6955-4b29-ead9-a618cd9206ca"
      },
      "execution_count": null,
      "outputs": [
        {
          "output_type": "execute_result",
          "data": {
            "text/plain": [
              "tensor(7)"
            ]
          },
          "metadata": {},
          "execution_count": 4
        }
      ]
    },
    {
      "cell_type": "code",
      "source": [
        "# single number\n",
        "scalar.ndim"
      ],
      "metadata": {
        "colab": {
          "base_uri": "https://localhost:8080/"
        },
        "id": "K_OmoT6UtaWW",
        "outputId": "dd2167ab-c88b-4674-f5a0-7e0335fa26dc"
      },
      "execution_count": null,
      "outputs": [
        {
          "output_type": "execute_result",
          "data": {
            "text/plain": [
              "0"
            ]
          },
          "metadata": {},
          "execution_count": 6
        }
      ]
    },
    {
      "cell_type": "code",
      "source": [
        "# scalar back as Python int\n",
        "scalar.item()"
      ],
      "metadata": {
        "colab": {
          "base_uri": "https://localhost:8080/"
        },
        "id": "svsPjFWXt5c2",
        "outputId": "7e5501c6-2d4e-4331-c1b6-d46cdb94918b"
      },
      "execution_count": null,
      "outputs": [
        {
          "output_type": "execute_result",
          "data": {
            "text/plain": [
              "7"
            ]
          },
          "metadata": {},
          "execution_count": 7
        }
      ]
    },
    {
      "cell_type": "code",
      "source": [
        "# Vector\n",
        "vector = torch.tensor([7 , 7])\n",
        "\n",
        "print(vector.ndim) # 1\n",
        "print(vector.shape) # torch.Size([2]) 2 by 1 elements = 2 elements"
      ],
      "metadata": {
        "colab": {
          "base_uri": "https://localhost:8080/"
        },
        "id": "1MPtIfiSt9We",
        "outputId": "dae1fe50-326b-4db2-eb60-28a9d93b8cac"
      },
      "execution_count": null,
      "outputs": [
        {
          "output_type": "stream",
          "name": "stdout",
          "text": [
            "1\n",
            "torch.Size([2])\n"
          ]
        }
      ]
    },
    {
      "cell_type": "code",
      "source": [
        "# MATRIX\n",
        "MATRIX = torch.tensor([[7, 8],\n",
        "                        [9,10]])\n",
        "MATRIX\n",
        "# tensor([[ 7,  8],\n",
        "#        [ 9, 10]])"
      ],
      "metadata": {
        "colab": {
          "base_uri": "https://localhost:8080/"
        },
        "id": "m_vTo2JWuBQF",
        "outputId": "c858695d-dd9c-4ce9-a533-5cf43b8a62b9"
      },
      "execution_count": null,
      "outputs": [
        {
          "output_type": "execute_result",
          "data": {
            "text/plain": [
              "tensor([[ 7,  8],\n",
              "        [ 9, 10]])"
            ]
          },
          "metadata": {},
          "execution_count": 14
        }
      ]
    },
    {
      "cell_type": "code",
      "source": [
        "MATRIX.ndim # 2"
      ],
      "metadata": {
        "colab": {
          "base_uri": "https://localhost:8080/"
        },
        "id": "Da2GXqoou6JO",
        "outputId": "f7eba610-6c98-4c42-ef0c-5a4e66f52f3d"
      },
      "execution_count": null,
      "outputs": [
        {
          "output_type": "execute_result",
          "data": {
            "text/plain": [
              "2"
            ]
          },
          "metadata": {},
          "execution_count": 15
        }
      ]
    },
    {
      "cell_type": "code",
      "source": [
        "MATRIX[0] # tensor([7, 8]), MATRIX[1] = tensor([9,10])"
      ],
      "metadata": {
        "colab": {
          "base_uri": "https://localhost:8080/"
        },
        "id": "T4An5wDrvCk9",
        "outputId": "885281b7-6e6d-470d-8153-439183f44bb2"
      },
      "execution_count": null,
      "outputs": [
        {
          "output_type": "execute_result",
          "data": {
            "text/plain": [
              "tensor([7, 8])"
            ]
          },
          "metadata": {},
          "execution_count": 17
        }
      ]
    },
    {
      "cell_type": "code",
      "source": [
        "print(MATRIX.ndim) # 1\n",
        "print(MATRIX.shape) # torch.Size([2, 2]) = 4 elements"
      ],
      "metadata": {
        "colab": {
          "base_uri": "https://localhost:8080/"
        },
        "id": "HjyePY2VvEqN",
        "outputId": "9a9b4844-2600-4d29-d944-61623f3de8da"
      },
      "execution_count": null,
      "outputs": [
        {
          "output_type": "stream",
          "name": "stdout",
          "text": [
            "2\n",
            "torch.Size([2, 2])\n"
          ]
        }
      ]
    },
    {
      "cell_type": "code",
      "source": [
        "# TENSOR\n",
        "TENSOR = torch.tensor([[[1,2,3],\n",
        "                        [4,5,6],\n",
        "                        [7,8,9]]])\n",
        "TENSOR"
      ],
      "metadata": {
        "colab": {
          "base_uri": "https://localhost:8080/"
        },
        "id": "7mLca3covghk",
        "outputId": "7adec77e-82fe-40cb-a4c3-6d587a4acd52"
      },
      "execution_count": null,
      "outputs": [
        {
          "output_type": "execute_result",
          "data": {
            "text/plain": [
              "tensor([[[1, 2, 3],\n",
              "         [4, 5, 6],\n",
              "         [7, 8, 9]]])"
            ]
          },
          "metadata": {},
          "execution_count": 21
        }
      ]
    },
    {
      "cell_type": "code",
      "source": [
        "print(TENSOR.ndim) # 3\n",
        "print(TENSOR.shape) # torch.Size([1, 3, 3]) : 0th dim = 1, 1st dim = 3, 2nd dim = 3 : Outer most bracket is dim0 {1 dimensional object}, next is dim1 {3 arrays}, next is dim2 {3 elements}, next is dimN in every index."
      ],
      "metadata": {
        "colab": {
          "base_uri": "https://localhost:8080/"
        },
        "id": "_8FSuOJ9v06k",
        "outputId": "f68acd01-1ebf-40e9-d0d8-8d5fb0872adc"
      },
      "execution_count": null,
      "outputs": [
        {
          "output_type": "stream",
          "name": "stdout",
          "text": [
            "3\n",
            "torch.Size([1, 3, 3])\n"
          ]
        }
      ]
    },
    {
      "cell_type": "markdown",
      "source": [
        " # Scalars and Vectors are lower case. MATRIX AND TENSORS ARE IN UPPER CASE.\n",
        "\n"
      ],
      "metadata": {
        "id": "ao9y1SBNw_1U"
      }
    },
    {
      "cell_type": "markdown",
      "source": [
        "# **Random Tensors**\n",
        "\n",
        "Why random tensors?\n",
        "\n",
        "Random tensors are needed because the way that many NN learn is that they start with random datasets and slowly adjust to those number to better represent the data.\n",
        "\n",
        "`Start Random -> Look -> Update -> Look -> Update`"
      ],
      "metadata": {
        "id": "XvP5fzEKxlm8"
      }
    },
    {
      "cell_type": "code",
      "source": [
        "# create random tensor of size(3, 4) ALWAYS A FLOAT32\n",
        "random_tensor = torch.rand(3,4,3)\n",
        "random_tensor"
      ],
      "metadata": {
        "colab": {
          "base_uri": "https://localhost:8080/"
        },
        "id": "U2wXYOH7xy98",
        "outputId": "900d337f-b791-4f72-c166-8c69adc23643"
      },
      "execution_count": null,
      "outputs": [
        {
          "output_type": "execute_result",
          "data": {
            "text/plain": [
              "tensor([[[0.6565, 0.0514, 0.3905],\n",
              "         [0.6181, 0.1280, 0.6014],\n",
              "         [0.0711, 0.8982, 0.9504],\n",
              "         [0.0908, 0.2545, 0.3690]],\n",
              "\n",
              "        [[0.1871, 0.9655, 0.2788],\n",
              "         [0.8014, 0.3205, 0.1571],\n",
              "         [0.8271, 0.0974, 0.1052],\n",
              "         [0.2428, 0.0580, 0.4600]],\n",
              "\n",
              "        [[0.8127, 0.1120, 0.8880],\n",
              "         [0.8582, 0.7308, 0.8678],\n",
              "         [0.9040, 0.6165, 0.6934],\n",
              "         [0.7817, 0.7858, 0.0638]]])"
            ]
          },
          "metadata": {},
          "execution_count": 3
        }
      ]
    },
    {
      "cell_type": "code",
      "source": [
        "# Create a random tensor with a similar shape to an image tensor\n",
        "\n",
        "# SPLIT BY COLOR CHANNELS TO MANIPULATE IMAGES\n",
        "\n",
        "random_image_size_tensor = torch.rand(size=(224,224,3))\n",
        "random_image_size_tensor.shape, random_image_size_tensor.ndim"
      ],
      "metadata": {
        "id": "_9ChY_KuyfsK",
        "colab": {
          "base_uri": "https://localhost:8080/"
        },
        "outputId": "1b6db241-058c-4893-d61d-e0cd6e29c631"
      },
      "execution_count": null,
      "outputs": [
        {
          "output_type": "execute_result",
          "data": {
            "text/plain": [
              "(torch.Size([224, 224, 3]), 3)"
            ]
          },
          "metadata": {},
          "execution_count": 5
        }
      ]
    },
    {
      "cell_type": "markdown",
      "source": [
        "# Zeros and Ones"
      ],
      "metadata": {
        "id": "48w7TClGwgcm"
      }
    },
    {
      "cell_type": "code",
      "source": [
        "# Create a tensor of all zeros ( GOOD FOR MASKS AKA BOOLEANS )\n",
        "# Typical case: use matrix multiplication to use mask ( zeros * randomtensor )\n",
        "\n",
        "zeros =  torch.zeros(3,4)\n",
        "zeros"
      ],
      "metadata": {
        "colab": {
          "base_uri": "https://localhost:8080/"
        },
        "id": "EzcktD9Tw_De",
        "outputId": "3c014681-0b98-40fa-f700-d4ed97029905"
      },
      "execution_count": null,
      "outputs": [
        {
          "output_type": "execute_result",
          "data": {
            "text/plain": [
              "tensor([[0., 0., 0., 0.],\n",
              "        [0., 0., 0., 0.],\n",
              "        [0., 0., 0., 0.]])"
            ]
          },
          "metadata": {},
          "execution_count": 7
        }
      ]
    },
    {
      "cell_type": "code",
      "source": [
        "ones = torch.ones(size=(3,4))\n",
        "print(ones)\n",
        "print(ones.dtype)"
      ],
      "metadata": {
        "colab": {
          "base_uri": "https://localhost:8080/"
        },
        "id": "mjZmk5rVxIMu",
        "outputId": "7359bf7c-ada2-44c4-e5fa-5698c3f345a2"
      },
      "execution_count": null,
      "outputs": [
        {
          "output_type": "stream",
          "name": "stdout",
          "text": [
            "tensor([[1., 1., 1., 1.],\n",
            "        [1., 1., 1., 1.],\n",
            "        [1., 1., 1., 1.]])\n",
            "torch.float32\n"
          ]
        }
      ]
    },
    {
      "cell_type": "markdown",
      "source": [
        "# Create a Range of Tensors and tensors-like"
      ],
      "metadata": {
        "id": "SB-XckvbxjLf"
      }
    },
    {
      "cell_type": "code",
      "source": [
        "one_to_ten = torch.arange(start=1, end=11, step=1)\n",
        "one_to_ten"
      ],
      "metadata": {
        "colab": {
          "base_uri": "https://localhost:8080/"
        },
        "id": "LvuqzbNmx_zs",
        "outputId": "424d7087-79f3-4147-8456-2920b8c04858"
      },
      "execution_count": null,
      "outputs": [
        {
          "output_type": "execute_result",
          "data": {
            "text/plain": [
              "tensor([ 1,  2,  3,  4,  5,  6,  7,  8,  9, 10])"
            ]
          },
          "metadata": {},
          "execution_count": 16
        }
      ]
    },
    {
      "cell_type": "code",
      "source": [
        "# creating tensors like, is like mimicking to produce a copy of a tensor with a similar shape\n",
        "\n",
        "ten_zeros = torch.zeros_like(input=one_to_ten)\n",
        "ten_zeros"
      ],
      "metadata": {
        "colab": {
          "base_uri": "https://localhost:8080/"
        },
        "id": "nPcZGfiPyFCd",
        "outputId": "4993ab6e-4342-4c4d-a7c6-b5c33c02a210"
      },
      "execution_count": null,
      "outputs": [
        {
          "output_type": "execute_result",
          "data": {
            "text/plain": [
              "tensor([0, 0, 0, 0, 0, 0, 0, 0, 0, 0])"
            ]
          },
          "metadata": {},
          "execution_count": 19
        }
      ]
    },
    {
      "cell_type": "markdown",
      "source": [
        "# Tensor Attributes\n",
        "\n",
        "### Common Errors\n",
        "\n",
        "1. Tensors are not in the right dtype - get datatype from tensor, use `tensor.dtype`\n",
        "2. Tensors are not the right shape - get shape from tensor, use `tensor.shape`\n",
        "3. Tensors are not on the right device - get which device from tensor, use `tensor.device` (CPU or GPU)"
      ],
      "metadata": {
        "id": "5BEZFo6SyvWT"
      }
    },
    {
      "cell_type": "code",
      "source": [
        "# FLOAT32 TENSOR\n",
        "f32_tensor = torch.rand((3, 4),\n",
        "                          dtype=None, # What dtype is the tensor?\n",
        "                          device=None, # What device is it on? \"cuda\" or etc\n",
        "                          requires_grad=False # Whether or not to track gradients with this tensors operations\n",
        "                          )\n",
        "\n",
        "# Tensor Attributes\n",
        "print(f\"Show object: {f32_tensor}\")\n",
        "print(f\"Shape of Tensor: {f32_tensor.shape}\")\n",
        "print(f\"Datatype of Tensor: {f32_tensor.dtype}\")\n",
        "print(f\"Device of Tensor: {f32_tensor.device}\")\n"
      ],
      "metadata": {
        "colab": {
          "base_uri": "https://localhost:8080/"
        },
        "id": "4zf-j9tTzIWq",
        "outputId": "77aecb20-991d-40d4-a133-255f45e03394"
      },
      "execution_count": null,
      "outputs": [
        {
          "output_type": "stream",
          "name": "stdout",
          "text": [
            "Show object: tensor([[0.6551, 0.3007, 0.9243, 0.3145],\n",
            "        [0.1364, 0.9601, 0.6580, 0.1764],\n",
            "        [0.3642, 0.2445, 0.7139, 0.3398]])\n",
            "Shape of Tensor: torch.Size([3, 4])\n",
            "Datatype of Tensor: torch.float32\n",
            "Device of Tensor: cpu\n"
          ]
        }
      ]
    },
    {
      "cell_type": "markdown",
      "source": [
        "# Manipulating Tensors (Tensor Operations)\n",
        "\n",
        "1. Addition / Subtraction (element-wise)\n",
        "2. Multiplication / Division (element-wise)\n",
        "3. Matrix Multiplication"
      ],
      "metadata": {
        "id": "kSO3OniX0uY5"
      }
    },
    {
      "cell_type": "code",
      "source": [
        "# Add\n",
        "tensor = torch.tensor([1,2,3])\n",
        "tensor + 10"
      ],
      "metadata": {
        "colab": {
          "base_uri": "https://localhost:8080/"
        },
        "id": "iIi2Hl5_3jLm",
        "outputId": "d6965ef0-818e-44b2-ef45-98e7e4e3e3c2"
      },
      "execution_count": null,
      "outputs": [
        {
          "output_type": "execute_result",
          "data": {
            "text/plain": [
              "tensor([11, 12, 13])"
            ]
          },
          "metadata": {},
          "execution_count": 29
        }
      ]
    },
    {
      "cell_type": "code",
      "source": [
        "# Multiply\n",
        "tensor = torch.tensor([1,2,3])\n",
        "tensor * 10"
      ],
      "metadata": {
        "colab": {
          "base_uri": "https://localhost:8080/"
        },
        "id": "2jzfreTEDcYv",
        "outputId": "9f061428-f0bb-4c31-b020-c7dc13a2fb0c"
      },
      "execution_count": null,
      "outputs": [
        {
          "output_type": "execute_result",
          "data": {
            "text/plain": [
              "tensor([10, 20, 30])"
            ]
          },
          "metadata": {},
          "execution_count": 31
        }
      ]
    },
    {
      "cell_type": "code",
      "source": [
        "# Subtract\n",
        "tensor = torch.tensor([1,2,3])\n",
        "tensor - 10"
      ],
      "metadata": {
        "colab": {
          "base_uri": "https://localhost:8080/"
        },
        "id": "Xqc-T_DMDkBG",
        "outputId": "8440cc1f-4723-4329-fa9e-f09d7fbfd569"
      },
      "execution_count": null,
      "outputs": [
        {
          "output_type": "execute_result",
          "data": {
            "text/plain": [
              "tensor([-9, -8, -7])"
            ]
          },
          "metadata": {},
          "execution_count": 32
        }
      ]
    },
    {
      "cell_type": "code",
      "source": [
        "# Pytorch In-Built Functions ( GENERALLY USE NORMAL OPERATORS )\n",
        "torch.mul(tensor, 10)\n",
        "torch.add(tensor, 10)"
      ],
      "metadata": {
        "colab": {
          "base_uri": "https://localhost:8080/"
        },
        "id": "4Zgr7WJpDuD2",
        "outputId": "f9a661e5-e536-4f03-d16e-9f5fdc2f3454"
      },
      "execution_count": null,
      "outputs": [
        {
          "output_type": "execute_result",
          "data": {
            "text/plain": [
              "tensor([10, 20, 30])"
            ]
          },
          "metadata": {},
          "execution_count": 33
        }
      ]
    },
    {
      "cell_type": "markdown",
      "source": [
        "# Matrix Multiplication\n",
        "\n",
        "Two main ways to multiply a matrix:\n",
        "1. Dot Product\n",
        "2. Element-wise or Scalar multiplication."
      ],
      "metadata": {
        "id": "arSvveQND2Xe"
      }
    },
    {
      "cell_type": "code",
      "source": [
        "# Element\n",
        "print(tensor, \"*\", tensor)\n",
        "print(f\"Equals: {tensor * tensor}\")"
      ],
      "metadata": {
        "colab": {
          "base_uri": "https://localhost:8080/"
        },
        "id": "4rcZzaGlEgX3",
        "outputId": "8bd87560-4bde-4fc0-e61a-96022120b11f"
      },
      "execution_count": null,
      "outputs": [
        {
          "output_type": "stream",
          "name": "stdout",
          "text": [
            "tensor([1, 2, 3]) * tensor([1, 2, 3])\n",
            "Equals: tensor([1, 4, 9])\n"
          ]
        }
      ]
    },
    {
      "cell_type": "code",
      "source": [
        "# Dot Product or (1*1 + 2*2 + 3*3)\n",
        "torch.matmul(tensor, tensor)"
      ],
      "metadata": {
        "colab": {
          "base_uri": "https://localhost:8080/"
        },
        "id": "9JhTGe6uEqZN",
        "outputId": "a6248efd-166d-439d-be24-65490600b47e"
      },
      "execution_count": null,
      "outputs": [
        {
          "output_type": "execute_result",
          "data": {
            "text/plain": [
              "tensor(14)"
            ]
          },
          "metadata": {},
          "execution_count": 37
        }
      ]
    },
    {
      "cell_type": "code",
      "source": [
        "# For Loop vs Vectorized\n",
        "\n",
        "%%time\n",
        "value = 0\n",
        "for i in range(len(tensor)):\n",
        "  value += tensor[i] * tensor[i]\n",
        "print(value)"
      ],
      "metadata": {
        "colab": {
          "base_uri": "https://localhost:8080/"
        },
        "id": "0j7lECs7Etx-",
        "outputId": "ece38643-f4a2-4b07-ee84-6b80533da8b0"
      },
      "execution_count": null,
      "outputs": [
        {
          "output_type": "stream",
          "name": "stdout",
          "text": [
            "tensor(14)\n",
            "CPU times: user 1.77 ms, sys: 0 ns, total: 1.77 ms\n",
            "Wall time: 1.83 ms\n"
          ]
        }
      ]
    },
    {
      "cell_type": "code",
      "source": [
        "%%time\n",
        "torch.matmul(tensor, tensor)"
      ],
      "metadata": {
        "colab": {
          "base_uri": "https://localhost:8080/"
        },
        "id": "6O0G8zj8FOwN",
        "outputId": "e86841dc-089b-460f-bfaf-acc0e51f3ed1"
      },
      "execution_count": null,
      "outputs": [
        {
          "output_type": "stream",
          "name": "stdout",
          "text": [
            "CPU times: user 394 µs, sys: 764 µs, total: 1.16 ms\n",
            "Wall time: 1.23 ms\n"
          ]
        },
        {
          "output_type": "execute_result",
          "data": {
            "text/plain": [
              "tensor(14)"
            ]
          },
          "metadata": {},
          "execution_count": 40
        }
      ]
    },
    {
      "cell_type": "code",
      "source": [],
      "metadata": {
        "id": "nspW-ulMK_ae"
      },
      "execution_count": null,
      "outputs": []
    }
  ]
}